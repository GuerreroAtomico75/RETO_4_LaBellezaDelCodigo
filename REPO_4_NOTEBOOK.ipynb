{
  "cells": [
    {
      "cell_type": "markdown",
      "metadata": {
        "id": "view-in-github",
        "colab_type": "text"
      },
      "source": [
        "<a href=\"https://colab.research.google.com/github/GuerreroAtomico75/RETO_4_LaBellezaDelCodigo/blob/main/REPO_4_NOTEBOOK.ipynb\" target=\"_parent\"><img src=\"https://colab.research.google.com/assets/colab-badge.svg\" alt=\"Open In Colab\"/></a>"
      ]
    },
    {
      "cell_type": "markdown",
      "metadata": {
        "id": "RcQUfcqmLeFH"
      },
      "source": [
        "# Reto 4: La belleza del código\n",
        "\n",
        "El siguiente repositorio es para hacer el reto 4, este reto consta en resolver los siguientes problemas:\n",
        "### Problemas planteados (con su respectiva solución):\n",
        "1. ##### Dado un número entero, determinar si ese número corresponde al código ASCII de una vocal minúscula.\n",
        "El código creado para solucionar el problema es el siguiente:"
      ]
    },
    {
      "cell_type": "code",
      "execution_count": 1,
      "metadata": {
        "colab": {
          "base_uri": "https://localhost:8080/"
        },
        "id": "lzsRZ5etLeFN",
        "outputId": "764610cc-dac3-418a-b54a-bbe4ee141c7c"
      },
      "outputs": [
        {
          "output_type": "stream",
          "name": "stdout",
          "text": [
            "Ingrese un numero entero el cual pertenezca en codigo ASCII a una vocal minuscula: 97\n",
            "El numero ingresado pertenece en codigo ASCII a una vocal minuscula\n",
            "La vocal minuscula es a\n"
          ]
        }
      ],
      "source": [
        "#Se declara variable\n",
        "n : int\n",
        "#Inicializo variable, pidiendo que se ingrese un numero entero\n",
        "n = int(input(\"Ingrese un numero entero el cual pertenezca en codigo ASCII a una vocal minuscula: \"))\n",
        "if n == 97 or n == 101 or n == 105 or n == 111 or n == 117:\n",
        "    print(\"El numero ingresado pertenece en codigo ASCII a una vocal minuscula\")\n",
        "    print(\"La vocal minuscula es\", chr(n))\n",
        "else:\n",
        "    print(\"El numero ingresado no pertenece en codigo ASCII a una vocal minuscula\")"
      ]
    },
    {
      "cell_type": "markdown",
      "metadata": {
        "id": "SNjxErddLeFS"
      },
      "source": [
        "Adicional a la solución planteada al problema, se mostrará la respectiva vocal minuscula del numero entero que se\n",
        "introdujo si es el codigo de ASCII de una vocal minuscula.\n",
        "\n",
        "---\n",
        "\n",
        "2. ##### Dada una cadena de longitud 1, determine si el código ASCII de primera letra de la cadena es par o no.\n",
        "El código creado para solucionar el problema es el siguiente:"
      ]
    },
    {
      "cell_type": "code",
      "execution_count": 4,
      "metadata": {
        "colab": {
          "base_uri": "https://localhost:8080/"
        },
        "id": "z8d8tq-4LeFT",
        "outputId": "74841675-f076-46bf-80c9-6e76dfe0dfa1"
      },
      "outputs": [
        {
          "output_type": "stream",
          "name": "stdout",
          "text": [
            "Ingrese un solo caracter que puede ser letra, numero o simbolo: 6\n",
            "El código ASCII del caracter ingresado es par\n",
            "54\n"
          ]
        }
      ],
      "source": [
        "#Declaramos la variable\n",
        "car : str\n",
        "#Inicializamos variable, teniendo en cuenta que la cadena es de una longitud de 1\n",
        "car = input(\"Ingrese un solo caracter que puede ser letra, numero o simbolo: \")\n",
        "cod = ord(car)\n",
        "#Añadimos condicional\n",
        "if cod % 2 == 0:\n",
        "    print(\"El código ASCII del caracter ingresado es par\")\n",
        "    print(cod)\n",
        "else:\n",
        "    print(\"el código ASCII del caracter ingresado es impar\")\n",
        "    print(cod)"
      ]
    },
    {
      "cell_type": "markdown",
      "metadata": {
        "id": "QP5stCz-LeFU"
      },
      "source": [
        "Esta fue la solución del problema planteado, como los códigos ASCII son para caracteres de una cadena de longitud no fue necesario poner un condicional si ponían más de un caracter, por ende no se uso \"len\".\n",
        "\n",
        "---\n",
        "\n",
        "3. ##### Dado un carácter, construya un programa en Python para determinar si el carácter es un dígito o no.\n",
        "El codigo creado para solucionar el problema es el siguiente:"
      ]
    },
    {
      "cell_type": "code",
      "execution_count": null,
      "metadata": {
        "id": "ByQl0QwjLeFV",
        "outputId": "f8b86b61-96d4-4379-b56f-1bad8466295b"
      },
      "outputs": [
        {
          "name": "stdout",
          "output_type": "stream",
          "text": [
            "8 es un digito\n"
          ]
        }
      ],
      "source": [
        "#Inicializamos la variable como un caracter que se va a ingresar\n",
        "n = (input(\"ingrese un caracter: \"))\n",
        "#Condicionamos el caracter ingresado con .isdigit()\n",
        "if n.isdigit():\n",
        "    print(n, \"es un digito\")\n",
        "else:\n",
        "    print(n, \"no es un digito\")"
      ]
    },
    {
      "cell_type": "markdown",
      "metadata": {
        "id": "L6KNMueILeFX"
      },
      "source": [
        "Para este ejercicio se utilizó el .isdigit. Para la comprensión del .is digit() se utilizó la siguiente referencia:\n",
        "[The Data Schools](https://thedataschools.com/python/strings/isdigit-metodo-string/#:~:text=Devuelve%20True%20si%20todos%20los%20caracteres%20de%20la%20cadena%20son,%C2%B2%2C%20tambi%C3%A9n%20se%20consideran%20d%C3%ADgitos.).\n",
        "\n",
        "En resumidas cuentas lo que hace esto es que al poner un caracter que no es un digito va a salir que no lo es, al haber solo digitos va a salir que son digitos.\n",
        "\n",
        "---\n",
        "\n",
        "4. ##### Dado un número real x, construya un programa que permita determinar si el número es positivo, negativo o cero. Para cada caso de debe imprimir el texto que se especifica a continuación:\n",
        "\n",
        "* Positivo: \"El número x es positivo\"\n",
        "* Negativo: \"El número x es negativo\"\n",
        "* Cero (0): \"El número x es el neutro para la suma\"\n",
        "\n",
        "La solución para el problema es la siguiente:"
      ]
    },
    {
      "cell_type": "code",
      "execution_count": null,
      "metadata": {
        "id": "wVhcpl_9LeFY",
        "outputId": "df1b5d92-0c22-4ab6-8baf-ba9f789e82ef"
      },
      "outputs": [
        {
          "name": "stdout",
          "output_type": "stream",
          "text": [
            "el numero 0.0 es el neutro para la suma\n"
          ]
        }
      ],
      "source": [
        "#Declaramos la variable\n",
        "x : float\n",
        "# Inicializamos\n",
        "x = float(input(\"ingrese un número real cualquiera: \"))\n",
        "#Condicionamos\n",
        "if x > 0:\n",
        "    print(\"El numero\", x, \"es positivo\")\n",
        "elif x < 0:\n",
        "    print(\"El numero\", x, \"es negativo\")\n",
        "elif x==0:\n",
        "    print(\"el numero\", x, \"es el neutro para la suma\")"
      ]
    },
    {
      "cell_type": "markdown",
      "metadata": {
        "id": "KIJP0V4NLeFa"
      },
      "source": [
        "En esta solución se añadieron los condicionales elif.\n",
        "\n",
        "---\n",
        "\n",
        "5. ##### Dado el centro y el radio de un círculo, determinar si un punto de R2 pertenece o no al interior del círculo.\n",
        "El código para el siguiente problema es:"
      ]
    },
    {
      "cell_type": "code",
      "execution_count": null,
      "metadata": {
        "id": "KXMTkl_0LeFb",
        "outputId": "e7769d95-2688-40e3-9888-b10eaf367c61"
      },
      "outputs": [
        {
          "name": "stdout",
          "output_type": "stream",
          "text": [
            "El punto R2 no pertenece al interior del circulo\n"
          ]
        }
      ],
      "source": [
        "#Definimos y declaramos las variables\n",
        "#Primero las del centro del circulo y su radio\n",
        "x : float\n",
        "y : float\n",
        "r : float\n",
        "#Despues las del Punto R2\n",
        "m : float\n",
        "n : float\n",
        "#Inicializamos las variables\n",
        "#Tener en cuenta que el valor de m y n son paralelos al eje \"x\" y \"y\" en el plano respectivamente.\n",
        "m = float(input(\"ingrese un valor para el punto m: \"))\n",
        "n = float(input(\"ingrese un valor para el punto n: \"))\n",
        "r = float(input(\"ingrese un valor para el radio: \"))\n",
        "x = float(input(\"ingrese un valor para el punto x: \"))\n",
        "y = float(input(\"ingrese un valor para el punto y: \"))\n",
        "#Condicionamos\n",
        "if (((m - x)**2) + ((n - y)**2))**0.5 < r:\n",
        "    print(\"El punto R2 pertenece al interior del circulo\")\n",
        "else:\n",
        "    print(\"El punto R2 no pertenece al interior del circulo\")"
      ]
    },
    {
      "cell_type": "markdown",
      "metadata": {
        "id": "jM5totCLLeFc"
      },
      "source": [
        "Puntos a tener en cuenta del código:\n",
        "1. Se halló primero la distancia entre las coordenadas del mismo eje. En el caso del eje x para hallar la distancia restamos m - x y esa era la distancia en el eje; lo mismo se hizo en el eje y.\n",
        "2. Para terminar encontrando la distancia entre los puntos se aplicó el teorema de pitagoras, siendo las anteriores restas explicadas en el paso anterior los catetos para hallar la hipotenusa que sería dicha distancia.\n",
        "3. Si este resultado obtenido era menor que el radio entonces significaba que el punto R2 estaba en el interior del circulo, de no ser así entonces no estaba en el interior del circulo\n",
        "\n",
        "**Nota** : Si por algún motivo daba el mismo resultado entre el punto y el radio entonces quedaba en la circunferencia el punto, con lo cual no quedaría en el interior del circulo.\n",
        "\n",
        "---\n",
        "\n",
        "6. ##### Dadas tres longitudes positivas, determinar si con esas longitudes se puede construir un triángulo.\n",
        "La solución del problema está en el siguiente código:"
      ]
    },
    {
      "cell_type": "code",
      "execution_count": null,
      "metadata": {
        "id": "owUTsRAyLeFd",
        "outputId": "3ea4a88c-1c2b-4e65-d59f-029d4577cdb7"
      },
      "outputs": [
        {
          "name": "stdout",
          "output_type": "stream",
          "text": [
            "No se puede construir un triangulo con las longitudes ingresadas\n"
          ]
        }
      ],
      "source": [
        "#Declaramos variables\n",
        "x : float\n",
        "y : float\n",
        "z : float\n",
        "#Inicializamos las variables\n",
        "x = float(input(\"ingresa un valor para la longitud x: \"))\n",
        "y = float(input(\"ingresa un valor para la longitud y: \"))\n",
        "z = float(input(\"ingresa un valor para la longitud z: \"))\n",
        "#condicionamos\n",
        "if x <= z and y <= z:\n",
        "    if x + y > z:\n",
        "        print(\"Se puede construir un triangulo con las longitudes ingresadas\")\n",
        "    else:\n",
        "        print(\"No se puede construir un triangulo con las longitudes ingresadas\")\n",
        "elif x <= y and z <= y:\n",
        "    if x + z > y:\n",
        "        print(\"Se puede construir un triangulo con las longitudes ingresadas\")\n",
        "    else:\n",
        "        print(\"No se puede construir un triangulo con las longitudes ingresadas\")\n",
        "elif y <= x and z <= x:\n",
        "    if y + z > x:\n",
        "        print(\"Se puede construir un triangulo con las longitudes ingresadas\")\n",
        "    else:\n",
        "        print(\"No se puede construir un triangulo con las longitudes ingresadas\")"
      ]
    },
    {
      "cell_type": "markdown",
      "metadata": {
        "id": "3gLHHIfeLeFe"
      },
      "source": [
        "Para resolver el último problema se tenía que tener en cuenta que para construir un triangulo la suma de sus lados más cortos tenían que ser mayor al lado más largo.\n",
        "\n",
        "Se utilizó elif para los distintos casos que se podían presentar, como se podía poner cualquier valor para la longitud en las variables, se hicieron tres casos posibles donde x, y, z podían ser la longitud más larga.\n",
        "\n",
        "Teniendo la posibilidad de que la suma de los lados más cortos fueran mayor al lado más largo o que la suma de los lados más cortos dieran como resultado la misma o menor longitud del lado más largo.\n",
        "\n",
        "---\n",
        "\n",
        "**Con esto se finaliza el reto 4**\n",
        "\n",
        "## Gracias por leer este repo. Espero haya sido de tu agrado\n",
        "\n",
        "*Mario Alejandro Martinez Bedoya*"
      ]
    }
  ],
  "metadata": {
    "kernelspec": {
      "display_name": "Python 3",
      "language": "python",
      "name": "python3"
    },
    "language_info": {
      "codemirror_mode": {
        "name": "ipython",
        "version": 3
      },
      "file_extension": ".py",
      "mimetype": "text/x-python",
      "name": "python",
      "nbconvert_exporter": "python",
      "pygments_lexer": "ipython3",
      "version": "3.11.4"
    },
    "orig_nbformat": 4,
    "colab": {
      "provenance": [],
      "include_colab_link": true
    }
  },
  "nbformat": 4,
  "nbformat_minor": 0
}